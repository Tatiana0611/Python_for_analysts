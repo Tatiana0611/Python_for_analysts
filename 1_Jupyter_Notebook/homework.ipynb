{
 "cells": [
  {
   "cell_type": "markdown",
   "id": "df564a0d",
   "metadata": {},
   "source": [
    "## Задача 1"
   ]
  },
  {
   "cell_type": "markdown",
   "id": "5dea1706",
   "metadata": {},
   "source": [
    "Оформляйте ноутбук, используя эти советы:\n",
    "\n",
    "- Номер задачи - заголовок 2\n",
    "- Номер подзадачи - заголовок 3\n",
    "- Предоставленные наборы данных оформляйте, как код"
   ]
  },
  {
   "cell_type": "markdown",
   "id": "9a15d7e8",
   "metadata": {},
   "source": [
    "## Задача 2\n",
    "На складе лежат разные фрукты в разном количестве.\n",
    "Нужно написать функцию, которая на вход принимает любое количество названий фруктов и их количество, а возвращает общее количество фруктов на складе, при помощи использования kwargs"
   ]
  },
  {
   "cell_type": "code",
   "execution_count": 16,
   "id": "2664cd62",
   "metadata": {},
   "outputs": [],
   "source": [
    "def fruits(**kwargs):\n",
    "    \n",
    "    total_fruits = sum(kwargs.values())\n",
    "    \n",
    "    return f'Total fruits: {total_fruits}'"
   ]
  },
  {
   "cell_type": "code",
   "execution_count": 18,
   "id": "612926fc",
   "metadata": {},
   "outputs": [
    {
     "name": "stdout",
     "output_type": "stream",
     "text": [
      "Total fruits: 19\n"
     ]
    }
   ],
   "source": [
    "print(fruits(apples=10, pears=5, bananas=4))"
   ]
  },
  {
   "cell_type": "markdown",
   "id": "ccb1f856",
   "metadata": {},
   "source": [
    "## Задача 3 \n",
    "Дан список с затратами на рекламу. Но в данных есть ошибки, некоторые затраты имеют отрицательную величину. Удалите такие значения из списка и посчитайте суммарные затраты <br>\n",
    "`[100, 125, -90, 345, 655, -1, 0, 200]`<br>\n",
    "Используйте list comprehensions"
   ]
  },
  {
   "cell_type": "code",
   "execution_count": 33,
   "id": "d76a508f",
   "metadata": {},
   "outputs": [],
   "source": [
    "def expenses(data: list):\n",
    "    \n",
    "    new_data = []\n",
    "    \n",
    "    for i in data:\n",
    "        if i > 0:\n",
    "            new_data.append(i)\n",
    "            \n",
    "    print(new_data)\n",
    "    print(f'Total expenses: {sum(new_data)}')"
   ]
  },
  {
   "cell_type": "code",
   "execution_count": 34,
   "id": "40fb61ab",
   "metadata": {},
   "outputs": [
    {
     "name": "stdout",
     "output_type": "stream",
     "text": [
      "[100, 125, 345, 655, 200]\n",
      "Total expenses: 1425\n"
     ]
    }
   ],
   "source": [
    "data = [100, 125, -90, 345, 655, -1, 0, 200]\n",
    "\n",
    "expenses(data)"
   ]
  },
  {
   "cell_type": "code",
   "execution_count": 36,
   "id": "f1fef034",
   "metadata": {},
   "outputs": [
    {
     "name": "stdout",
     "output_type": "stream",
     "text": [
      "[100, 125, 345, 655, 200]\n"
     ]
    }
   ],
   "source": [
    "print([i for i in data if i > 0 ])"
   ]
  },
  {
   "cell_type": "code",
   "execution_count": 38,
   "id": "5a9082bf",
   "metadata": {},
   "outputs": [
    {
     "name": "stdout",
     "output_type": "stream",
     "text": [
      "Total expenses: 1425\n"
     ]
    }
   ],
   "source": [
    "print(f'Total expenses: {sum([i for i in data if i > 0 ])}')"
   ]
  },
  {
   "cell_type": "markdown",
   "id": "902460f4",
   "metadata": {},
   "source": [
    "## Задача 4 \n",
    "Даны два списка.<br>\n",
    "Дата покупки<br>\n",
    "```['2021-09-14', '2021-12-15', '2021-09-08', '2021-12-05', '2021-10-09', '2021-09-30', '2021-12-22', '2021-11-29', '2021-12-24', '2021-11-26', '2021-10-27', '2021-12-18', '2021-11-09', '2021-11-23', '2021-09-27', '2021-10-02', '2021-12-27', '2021-09-20', '2021-12-13', '2021-11-01', '2021-11-09', '2021-12-06', '2021-12-08', '2021-10-09', '2021-10-31', '2021-09-30', '2021-11-09', '2021-12-13', '2021-10-26', '2021-12-09']```<br>\n",
    "Суммы покупок по датам<br>\n",
    "```[1270, 8413, 9028, 3703, 5739, 4095, 295, 4944, 5723, 3701, 4471, 651, 7037, 4274, 6275, 4988, 6930, 2971, 6592, 2004, 2822, 519, 3406, 2732, 5015, 2008, 316, 6333, 5700, 2887]```"
   ]
  },
  {
   "cell_type": "markdown",
   "id": "6cd1e02e",
   "metadata": {},
   "source": [
    "### Задача 4.1\n",
    "Найдите, какая выручка у компании в ноябре<br>\n",
    "Используйте list comprehensions"
   ]
  },
  {
   "cell_type": "code",
   "execution_count": 41,
   "id": "ae53535b",
   "metadata": {},
   "outputs": [],
   "source": [
    "date = ['2021-09-14', '2021-12-15', '2021-09-08', '2021-12-05', '2021-10-09', \n",
    "        '2021-09-30', '2021-12-22', '2021-11-29', '2021-12-24', '2021-11-26', \n",
    "        '2021-10-27', '2021-12-18', '2021-11-09', '2021-11-23', '2021-09-27', \n",
    "        '2021-10-02', '2021-12-27', '2021-09-20', '2021-12-13', '2021-11-01', \n",
    "        '2021-11-09', '2021-12-06', '2021-12-08', '2021-10-09', '2021-10-31', \n",
    "        '2021-09-30', '2021-11-09', '2021-12-13', '2021-10-26', '2021-12-09']\n",
    "cost = [1270, 8413, 9028, 3703, 5739, 4095, 295, 4944, 5723, 3701, \n",
    "        4471, 651, 7037, 4274, 6275, 4988, 6930, 2971, 6592, 2004, \n",
    "        2822, 519, 3406, 2732, 5015, 2008, 316, 6333, 5700, 2887]"
   ]
  },
  {
   "cell_type": "code",
   "execution_count": 59,
   "id": "c0cc521d",
   "metadata": {},
   "outputs": [],
   "source": [
    "def november(data1: list, data2: list) -> list:\n",
    "    \n",
    "    new_data = []\n",
    "    \n",
    "    for i in range(len(data1)-1):\n",
    "        if '-11-' in data1[i]:\n",
    "            new_data.append(data2[i])\n",
    "            \n",
    "    return new_data"
   ]
  },
  {
   "cell_type": "code",
   "execution_count": 60,
   "id": "4bb3c358",
   "metadata": {},
   "outputs": [
    {
     "name": "stdout",
     "output_type": "stream",
     "text": [
      "[4944, 3701, 7037, 4274, 2004, 2822, 316]\n",
      "Profit: 25098\n"
     ]
    }
   ],
   "source": [
    "print(november(date, cost))\n",
    "print(f'Profit: {sum(november(date, cost))}')"
   ]
  },
  {
   "cell_type": "code",
   "execution_count": 58,
   "id": "4cc44793",
   "metadata": {},
   "outputs": [
    {
     "name": "stdout",
     "output_type": "stream",
     "text": [
      "[4944, 3701, 7037, 4274, 2004, 2822, 316]\n",
      "Profit: 25098\n"
     ]
    }
   ],
   "source": [
    "print([cost[i] for i in range(0, len(date)-1) if \"-11\" in date[i]])\n",
    "print(f'Profit: {sum([cost[i] for i in range(len(date)-1) if \"-11\" in date[i]])}')"
   ]
  },
  {
   "cell_type": "markdown",
   "id": "ad4d7435",
   "metadata": {},
   "source": [
    "### Задача 4.2\n",
    "Найдите выручку компании в зависимости от месяца<br>\n",
    "Для этого напишите функцию, которая на вход принимает список с датами и список с выручкой, а на выходе словарь, где ключи - это месяцы, а значения - это выручка.<br>\n",
    "Используйте аннотирование типов."
   ]
  },
  {
   "cell_type": "code",
   "execution_count": 69,
   "id": "fdfaaacd",
   "metadata": {},
   "outputs": [
    {
     "name": "stdout",
     "output_type": "stream",
     "text": [
      "{'09': 25647, '12': 45452, '10': 28645, '11': 25098}\n"
     ]
    }
   ],
   "source": [
    "def profits(data1: list, data2: list) -> dict:\n",
    "    \n",
    "    profits = {}\n",
    "    \n",
    "    for i in range(len(data1)):\n",
    "        \n",
    "        if date[i].split('-')[1] in profits.keys():\n",
    "            profits[date[i].split('-')[1]] += cost[i]\n",
    "        else:\n",
    "            profits[date[i].split('-')[1]] = cost[i]\n",
    "            \n",
    "    return profits\n",
    "\n",
    "print(profits(date, cost))"
   ]
  }
 ],
 "metadata": {
  "kernelspec": {
   "display_name": "Python 3 (ipykernel)",
   "language": "python",
   "name": "python3"
  },
  "language_info": {
   "codemirror_mode": {
    "name": "ipython",
    "version": 3
   },
   "file_extension": ".py",
   "mimetype": "text/x-python",
   "name": "python",
   "nbconvert_exporter": "python",
   "pygments_lexer": "ipython3",
   "version": "3.9.7"
  }
 },
 "nbformat": 4,
 "nbformat_minor": 5
}
