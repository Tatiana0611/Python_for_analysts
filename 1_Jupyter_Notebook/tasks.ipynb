{
 "cells": [
  {
   "cell_type": "markdown",
   "id": "94afb76f",
   "metadata": {},
   "source": [
    "## Горячие клавиши"
   ]
  },
  {
   "cell_type": "markdown",
   "id": "99241a96",
   "metadata": {},
   "source": [
    "H - показать горячие клавиши\n",
    "\n",
    "1.\tCtrl+A - выделить всё\n",
    "2.\tCtrl+Home - подняться на начало ячейки\n",
    "3.\tCtrl+End - опуститься на конец ячейки\n",
    "4.\tCtrl+Left - перемещаться на одно слово влево\n",
    "5.\tCtrl+Right - перемещаться на одно слово вправо\n",
    "\n",
    "6.  Tab - code completion or indent\n",
    "7.  Shift+Tab - tooltip\n",
    "\n",
    "8.  Ctrl+D - удалить всю строку"
   ]
  },
  {
   "cell_type": "code",
   "execution_count": 1,
   "id": "ffaf2036",
   "metadata": {},
   "outputs": [],
   "source": [
    "?pow"
   ]
  },
  {
   "cell_type": "markdown",
   "id": "0c437caf",
   "metadata": {},
   "source": [
    "9.  Up - select cell above\n",
    "10. Down - select cell below\n",
    "\n",
    "\n",
    "11.\tА - создать новую ячейку сверху\n",
    "12.\tB - создать ячейка снизу текущей\n",
    "13.\tX - вырезать ячейку\n",
    "14.\tC - копировать ячейку\n",
    "15.\tV - вставить ячейку\n",
    "\n",
    "\n",
    "16. Shift+Enter - run cell, select below\n",
    "17. Ctrl+Enter - run selected cells\n",
    "18. Alt+Enter - run cell and insert below\n",
    "\n",
    "19. F - find and replace\n",
    "\n",
    "\n",
    "20. Y - change cell to code\n",
    "21. M - change cell to markdown\n",
    "\n",
    "22. 0,0 - перезапуск ноутбука"
   ]
  },
  {
   "cell_type": "markdown",
   "id": "ef69baac",
   "metadata": {},
   "source": [
    "# Markdown\n",
    "**жирный**\n",
    "__жирный__<br>\n",
    "*курсив*\n",
    "_курсив_<br>\n",
    "- список\n",
    "- список<br>\n",
    "\n",
    "###### Формулы\n",
    "Latex\n",
    "$$\\frac{1}{n} \\sum{x_ij}$$\n",
    "$\\frac{1}{n} \\sum{x_ij}$\n",
    "\n",
    "###### Теги html, css\n",
    "<img src='https://ru.translate.si/img/words/000/006/935/acquainted-2.png'>\n",
    "\n",
    "<b>жирный</b>\n",
    "\n",
    "<i>курсив</i>\n",
    "\n",
    "text<br>new line\n",
    "\n",
    "<table>\n",
    "    <tr>\n",
    "        <td>первый столбик</td>\n",
    "        <td>второй столбик</td>\n",
    "    </tr>\n",
    "    <tr>\n",
    "        <td>первый столбик</td>\n",
    "        <td>второй столбик</td>\n",
    "    </tr>\n",
    "</table>"
   ]
  },
  {
   "cell_type": "markdown",
   "id": "e24c148e",
   "metadata": {},
   "source": [
    "# СЛОВАРИ"
   ]
  },
  {
   "cell_type": "code",
   "execution_count": 1,
   "id": "301084b1",
   "metadata": {},
   "outputs": [
    {
     "data": {
      "text/plain": [
       "{'name': 'John', 'surname': 'Doe', 'age': 32}"
      ]
     },
     "execution_count": 1,
     "metadata": {},
     "output_type": "execute_result"
    }
   ],
   "source": [
    "client_data = {\n",
    "    'name': 'John',\n",
    "    'surname': 'Doe',\n",
    "    'age': 32\n",
    "}\n",
    "\n",
    "client_data"
   ]
  },
  {
   "cell_type": "code",
   "execution_count": 2,
   "id": "a0d6ef3d",
   "metadata": {},
   "outputs": [
    {
     "data": {
      "text/plain": [
       "'John'"
      ]
     },
     "execution_count": 2,
     "metadata": {},
     "output_type": "execute_result"
    }
   ],
   "source": [
    "client_data['name']"
   ]
  },
  {
   "cell_type": "code",
   "execution_count": 5,
   "id": "ac435eb3",
   "metadata": {},
   "outputs": [],
   "source": [
    "client_data.get('key') # безопасное извлечение объекта по ключу"
   ]
  },
  {
   "cell_type": "code",
   "execution_count": 7,
   "id": "cd1000ee",
   "metadata": {},
   "outputs": [
    {
     "data": {
      "text/plain": [
       "'John'"
      ]
     },
     "execution_count": 7,
     "metadata": {},
     "output_type": "execute_result"
    }
   ],
   "source": [
    "client_data.get('name')"
   ]
  },
  {
   "cell_type": "code",
   "execution_count": 8,
   "id": "02f0c8e1",
   "metadata": {},
   "outputs": [
    {
     "data": {
      "text/plain": [
       "dict_keys(['name', 'surname', 'age'])"
      ]
     },
     "execution_count": 8,
     "metadata": {},
     "output_type": "execute_result"
    }
   ],
   "source": [
    "client_data.keys() # извлечение ключей"
   ]
  },
  {
   "cell_type": "code",
   "execution_count": 9,
   "id": "c5b5629f",
   "metadata": {},
   "outputs": [
    {
     "data": {
      "text/plain": [
       "dict_values(['John', 'Doe', 32])"
      ]
     },
     "execution_count": 9,
     "metadata": {},
     "output_type": "execute_result"
    }
   ],
   "source": [
    "client_data.values() # извлечение значений"
   ]
  },
  {
   "cell_type": "code",
   "execution_count": 10,
   "id": "df95ff22",
   "metadata": {},
   "outputs": [
    {
     "data": {
      "text/plain": [
       "dict_items([('name', 'John'), ('surname', 'Doe'), ('age', 32)])"
      ]
     },
     "execution_count": 10,
     "metadata": {},
     "output_type": "execute_result"
    }
   ],
   "source": [
    "client_data.items()"
   ]
  },
  {
   "cell_type": "code",
   "execution_count": 11,
   "id": "b1fc9a76",
   "metadata": {},
   "outputs": [
    {
     "name": "stdout",
     "output_type": "stream",
     "text": [
      "name: John\n",
      "surname: Doe\n",
      "age: 32\n"
     ]
    }
   ],
   "source": [
    "for k, v in client_data.items():\n",
    "    print(f'{k}: {v}')"
   ]
  },
  {
   "cell_type": "code",
   "execution_count": 12,
   "id": "0188db6c",
   "metadata": {},
   "outputs": [
    {
     "name": "stdout",
     "output_type": "stream",
     "text": [
      "name: John\n",
      "surname: Doe\n",
      "age: 32\n",
      "heigh: 182\n"
     ]
    }
   ],
   "source": [
    "client_data['heigh'] = 182 # добавление ключа и значения\n",
    "for k, v in client_data.items():\n",
    "    print(f'{k}: {v}')"
   ]
  },
  {
   "cell_type": "code",
   "execution_count": 14,
   "id": "3e1de0a4",
   "metadata": {},
   "outputs": [
    {
     "data": {
      "text/plain": [
       "{'name': 'John', 'surname': 'Doe', 'age': 18, 'heigh': 182}"
      ]
     },
     "execution_count": 14,
     "metadata": {},
     "output_type": "execute_result"
    }
   ],
   "source": [
    "client_data['age'] = 18 # перезаписать значение, не рекомендуется так перезаписывать\n",
    "client_data"
   ]
  },
  {
   "cell_type": "code",
   "execution_count": 16,
   "id": "eff37ed1",
   "metadata": {},
   "outputs": [
    {
     "data": {
      "text/plain": [
       "{'name': 'John', 'surname': 'Doe', 'age': 18, 'heigh': 182}"
      ]
     },
     "execution_count": 16,
     "metadata": {},
     "output_type": "execute_result"
    }
   ],
   "source": [
    "client_data.setdefault('age', 32) # безопасная перезапись, не будет перезаписывать, если ключ возраста уже есть. Если такого ключа нет, то добавляет его с указанным значением\n",
    "client_data"
   ]
  },
  {
   "cell_type": "code",
   "execution_count": 18,
   "id": "bc738c2e",
   "metadata": {},
   "outputs": [
    {
     "data": {
      "text/plain": [
       "{'name': 'John', 'surname': 'Doe', 'age': 14, 'heigh': 182}"
      ]
     },
     "execution_count": 18,
     "metadata": {},
     "output_type": "execute_result"
    }
   ],
   "source": [
    "# еще небезопасная перезапись\n",
    "client_data.update({\n",
    "    'age': 14\n",
    "})\n",
    "client_data"
   ]
  },
  {
   "cell_type": "markdown",
   "id": "b2df4688",
   "metadata": {},
   "source": [
    "#### Вложенный словарь"
   ]
  },
  {
   "cell_type": "code",
   "execution_count": 20,
   "id": "01d3ff95",
   "metadata": {},
   "outputs": [
    {
     "data": {
      "text/plain": [
       "{'name': 'John',\n",
       " 'surname': 'Doe',\n",
       " 'age': 32,\n",
       " 'heigh': 182,\n",
       " 'body': {'weight': 80, 'height': 186}}"
      ]
     },
     "execution_count": 20,
     "metadata": {},
     "output_type": "execute_result"
    }
   ],
   "source": [
    "client_data.update({\n",
    "    'age': 32,\n",
    "    'body': {\n",
    "        'weight': 80,\n",
    "        'height': 186\n",
    "    }\n",
    "})\n",
    "client_data"
   ]
  },
  {
   "cell_type": "code",
   "execution_count": 22,
   "id": "3b89da61",
   "metadata": {},
   "outputs": [
    {
     "data": {
      "text/plain": [
       "{'weight': 80, 'height': 186}"
      ]
     },
     "execution_count": 22,
     "metadata": {},
     "output_type": "execute_result"
    }
   ],
   "source": [
    "client_data['body']"
   ]
  },
  {
   "cell_type": "code",
   "execution_count": 24,
   "id": "d2228fae",
   "metadata": {},
   "outputs": [
    {
     "data": {
      "text/plain": [
       "80"
      ]
     },
     "execution_count": 24,
     "metadata": {},
     "output_type": "execute_result"
    }
   ],
   "source": [
    "client_data['body']['weight']"
   ]
  },
  {
   "cell_type": "markdown",
   "id": "a9fd27c0",
   "metadata": {},
   "source": [
    "# RANDOM\n",
    "\n",
    "Модуль random предоставляет функции для генерации случайных чисел или к примеру, для случайного выбора элементов последовательности. "
   ]
  },
  {
   "cell_type": "code",
   "execution_count": 62,
   "id": "6e1df6d5",
   "metadata": {},
   "outputs": [],
   "source": [
    "import random"
   ]
  },
  {
   "cell_type": "code",
   "execution_count": 40,
   "id": "e517f768",
   "metadata": {},
   "outputs": [
    {
     "data": {
      "text/plain": [
       "2"
      ]
     },
     "execution_count": 40,
     "metadata": {},
     "output_type": "execute_result"
    }
   ],
   "source": [
    "random.randint(0, 10)"
   ]
  },
  {
   "cell_type": "code",
   "execution_count": 52,
   "id": "62ec6cd8",
   "metadata": {},
   "outputs": [
    {
     "data": {
      "text/plain": [
       "7"
      ]
     },
     "execution_count": 52,
     "metadata": {},
     "output_type": "execute_result"
    }
   ],
   "source": [
    "random.seed(9) # зафиксировать значение randint\n",
    "random.randint(0, 10)"
   ]
  },
  {
   "cell_type": "code",
   "execution_count": 53,
   "id": "d2a8c1bd",
   "metadata": {},
   "outputs": [
    {
     "data": {
      "text/plain": [
       "0.6132152331867212"
      ]
     },
     "execution_count": 53,
     "metadata": {},
     "output_type": "execute_result"
    }
   ],
   "source": [
    "random.random() # случайное значение из нормального распределения"
   ]
  },
  {
   "cell_type": "code",
   "execution_count": 55,
   "id": "16e8b92f",
   "metadata": {},
   "outputs": [
    {
     "data": {
      "text/plain": [
       "1.8614495446206514"
      ]
     },
     "execution_count": 55,
     "metadata": {},
     "output_type": "execute_result"
    }
   ],
   "source": [
    "random.uniform(0, 10) # случайное значение из равномерного распределения"
   ]
  },
  {
   "cell_type": "code",
   "execution_count": 61,
   "id": "53d51087",
   "metadata": {},
   "outputs": [
    {
     "ename": "NameError",
     "evalue": "name 'random' is not defined",
     "output_type": "error",
     "traceback": [
      "\u001b[1;31m---------------------------------------------------------------------------\u001b[0m",
      "\u001b[1;31mNameError\u001b[0m                                 Traceback (most recent call last)",
      "\u001b[1;32m~\\AppData\\Local\\Temp/ipykernel_15220/2517518009.py\u001b[0m in \u001b[0;36m<module>\u001b[1;34m\u001b[0m\n\u001b[0;32m      1\u001b[0m \u001b[0ma\u001b[0m \u001b[1;33m=\u001b[0m \u001b[1;33m[\u001b[0m\u001b[1;34m'black'\u001b[0m\u001b[1;33m,\u001b[0m \u001b[1;34m'red'\u001b[0m\u001b[1;33m,\u001b[0m \u001b[1;34m'yellow'\u001b[0m\u001b[1;33m,\u001b[0m \u001b[1;34m'green'\u001b[0m\u001b[1;33m]\u001b[0m\u001b[1;33m\u001b[0m\u001b[1;33m\u001b[0m\u001b[0m\n\u001b[1;32m----> 2\u001b[1;33m \u001b[0mrandom\u001b[0m\u001b[1;33m.\u001b[0m\u001b[0msample\u001b[0m\u001b[1;33m(\u001b[0m\u001b[0ma\u001b[0m\u001b[1;33m,\u001b[0m \u001b[1;36m3\u001b[0m\u001b[1;33m)\u001b[0m \u001b[1;31m# возвращает указанное количество элементов\u001b[0m\u001b[1;33m\u001b[0m\u001b[1;33m\u001b[0m\u001b[0m\n\u001b[0m",
      "\u001b[1;31mNameError\u001b[0m: name 'random' is not defined"
     ]
    }
   ],
   "source": [
    "a = ['black', 'red', 'yellow', 'green']\n",
    "random.sample(a, 3) # возвращает указанное количество элементов"
   ]
  },
  {
   "cell_type": "code",
   "execution_count": 70,
   "id": "092a23f1",
   "metadata": {},
   "outputs": [
    {
     "data": {
      "text/plain": [
       "['yellow', 'black', 'green', 'red']"
      ]
     },
     "execution_count": 70,
     "metadata": {},
     "output_type": "execute_result"
    }
   ],
   "source": [
    "random.shuffle(a) # перемешивание\n",
    "a"
   ]
  },
  {
   "cell_type": "code",
   "execution_count": 78,
   "id": "0031ed3c",
   "metadata": {},
   "outputs": [
    {
     "data": {
      "text/plain": [
       "'yellow'"
      ]
     },
     "execution_count": 78,
     "metadata": {},
     "output_type": "execute_result"
    }
   ],
   "source": [
    "random.choice(a) # возвращает случайный элемент"
   ]
  },
  {
   "cell_type": "markdown",
   "id": "f1daa676",
   "metadata": {},
   "source": [
    "# ФУНКЦИИ"
   ]
  },
  {
   "cell_type": "code",
   "execution_count": 79,
   "id": "815f7f55",
   "metadata": {},
   "outputs": [],
   "source": [
    "def func(arg1, arg2):\n",
    "    result = arg1 + arg2\n",
    "    return result"
   ]
  },
  {
   "cell_type": "markdown",
   "id": "f35c9574",
   "metadata": {},
   "source": [
    "Позиционный аргумент - это аргумент, передаваемый в функцию в определенной последовательности (на определенных позициях), без указания их имен"
   ]
  },
  {
   "cell_type": "code",
   "execution_count": 2,
   "id": "049db41d",
   "metadata": {},
   "outputs": [],
   "source": [
    "def calc_sum(a, b):\n",
    "    print(f'a is {a}')\n",
    "    print(f'b is {b}')\n",
    "    result = a + b\n",
    "    return result"
   ]
  },
  {
   "cell_type": "code",
   "execution_count": 3,
   "id": "579c0f27",
   "metadata": {},
   "outputs": [
    {
     "name": "stdout",
     "output_type": "stream",
     "text": [
      "a is 2\n",
      "b is 3\n"
     ]
    },
    {
     "data": {
      "text/plain": [
       "5"
      ]
     },
     "execution_count": 3,
     "metadata": {},
     "output_type": "execute_result"
    }
   ],
   "source": [
    "calc_sum(2, 3)"
   ]
  },
  {
   "cell_type": "markdown",
   "id": "57a78864",
   "metadata": {},
   "source": [
    "Именованный аргумент - это аргумент, передаваемые в функцию при помощи имени. "
   ]
  },
  {
   "cell_type": "code",
   "execution_count": 4,
   "id": "a234c950",
   "metadata": {},
   "outputs": [
    {
     "name": "stdout",
     "output_type": "stream",
     "text": [
      "a is 2\n",
      "b is 3\n"
     ]
    },
    {
     "data": {
      "text/plain": [
       "5"
      ]
     },
     "execution_count": 4,
     "metadata": {},
     "output_type": "execute_result"
    }
   ],
   "source": [
    "calc_sum(a=2, b=3)"
   ]
  },
  {
   "cell_type": "code",
   "execution_count": 6,
   "id": "8845d633",
   "metadata": {},
   "outputs": [
    {
     "name": "stdout",
     "output_type": "stream",
     "text": [
      "a is 3\n",
      "b is 2\n"
     ]
    },
    {
     "data": {
      "text/plain": [
       "5"
      ]
     },
     "execution_count": 6,
     "metadata": {},
     "output_type": "execute_result"
    }
   ],
   "source": [
    "calc_sum(b=2, a=3)"
   ]
  },
  {
   "cell_type": "code",
   "execution_count": 8,
   "id": "4b27279b",
   "metadata": {},
   "outputs": [
    {
     "name": "stdout",
     "output_type": "stream",
     "text": [
      "a is 5\n",
      "b is 3\n"
     ]
    },
    {
     "data": {
      "text/plain": [
       "8"
      ]
     },
     "execution_count": 8,
     "metadata": {},
     "output_type": "execute_result"
    }
   ],
   "source": [
    "calc_sum(5, b=3)"
   ]
  },
  {
   "cell_type": "markdown",
   "id": "29f78e5d",
   "metadata": {},
   "source": [
    "Аргументы по умолчанию - аргументы, значения которых будут использованы, если не передали им явное значение при вызове."
   ]
  },
  {
   "cell_type": "code",
   "execution_count": 10,
   "id": "cc51c742",
   "metadata": {},
   "outputs": [],
   "source": [
    "def say_hi(greeting='Hello', name='World'):\n",
    "    return f'{greeting}, {name}'"
   ]
  },
  {
   "cell_type": "code",
   "execution_count": 12,
   "id": "b45399f5",
   "metadata": {},
   "outputs": [
    {
     "data": {
      "text/plain": [
       "'Hello, World'"
      ]
     },
     "execution_count": 12,
     "metadata": {},
     "output_type": "execute_result"
    }
   ],
   "source": [
    "say_hi()"
   ]
  },
  {
   "cell_type": "code",
   "execution_count": 13,
   "id": "3bd19099",
   "metadata": {},
   "outputs": [],
   "source": [
    "def say_hi(greeting, name='World'):\n",
    "    return f'{greeting}, {name}'"
   ]
  },
  {
   "cell_type": "code",
   "execution_count": 16,
   "id": "37ca46ea",
   "metadata": {},
   "outputs": [
    {
     "data": {
      "text/plain": [
       "'Hi, World'"
      ]
     },
     "execution_count": 16,
     "metadata": {},
     "output_type": "execute_result"
    }
   ],
   "source": [
    "say_hi(greeting='Hi')"
   ]
  },
  {
   "cell_type": "code",
   "execution_count": 18,
   "id": "dade5bde",
   "metadata": {},
   "outputs": [
    {
     "data": {
      "text/plain": [
       "'Hi, World'"
      ]
     },
     "execution_count": 18,
     "metadata": {},
     "output_type": "execute_result"
    }
   ],
   "source": [
    "say_hi('Hi')"
   ]
  },
  {
   "cell_type": "code",
   "execution_count": 19,
   "id": "c08b01f9",
   "metadata": {},
   "outputs": [
    {
     "data": {
      "text/plain": [
       "'Hi, John'"
      ]
     },
     "execution_count": 19,
     "metadata": {},
     "output_type": "execute_result"
    }
   ],
   "source": [
    "say_hi('Hi', 'John')"
   ]
  },
  {
   "cell_type": "markdown",
   "id": "a2f6c54e",
   "metadata": {},
   "source": [
    "Аргумент *args — это сокращение от «arguments» (аргументы). Этот оператор позволяет «распаковывать» объекты, внутри которых хранятся некие элементы."
   ]
  },
  {
   "cell_type": "code",
   "execution_count": 20,
   "id": "25afdfb0",
   "metadata": {},
   "outputs": [],
   "source": [
    "def calc_sum(a, b, c, d, e):\n",
    "    result = a + b + c + d + e\n",
    "    return result"
   ]
  },
  {
   "cell_type": "code",
   "execution_count": 21,
   "id": "25dfd3f4",
   "metadata": {},
   "outputs": [],
   "source": [
    "def calc_sum(*args): # в args можно передать любое количество аргумеентов\n",
    "    result = sum(args)\n",
    "    return result"
   ]
  },
  {
   "cell_type": "code",
   "execution_count": 22,
   "id": "0b671241",
   "metadata": {},
   "outputs": [
    {
     "data": {
      "text/plain": [
       "1"
      ]
     },
     "execution_count": 22,
     "metadata": {},
     "output_type": "execute_result"
    }
   ],
   "source": [
    "calc_sum(1)"
   ]
  },
  {
   "cell_type": "code",
   "execution_count": 23,
   "id": "2a2516dd",
   "metadata": {},
   "outputs": [
    {
     "data": {
      "text/plain": [
       "3"
      ]
     },
     "execution_count": 23,
     "metadata": {},
     "output_type": "execute_result"
    }
   ],
   "source": [
    "calc_sum(1, 1, 1)"
   ]
  },
  {
   "cell_type": "code",
   "execution_count": 24,
   "id": "32a72751",
   "metadata": {},
   "outputs": [],
   "source": [
    "def calc_sum(*args):\n",
    "    print(args)\n",
    "    print(type(args))\n",
    "    result = sum(args)\n",
    "    return result"
   ]
  },
  {
   "cell_type": "code",
   "execution_count": 25,
   "id": "f1046ba9",
   "metadata": {},
   "outputs": [
    {
     "name": "stdout",
     "output_type": "stream",
     "text": [
      "(1, 2, 3)\n",
      "<class 'tuple'>\n"
     ]
    },
    {
     "data": {
      "text/plain": [
       "6"
      ]
     },
     "execution_count": 25,
     "metadata": {},
     "output_type": "execute_result"
    }
   ],
   "source": [
    "calc_sum(1, 2, 3)"
   ]
  },
  {
   "cell_type": "code",
   "execution_count": 28,
   "id": "dccbe00f",
   "metadata": {},
   "outputs": [],
   "source": [
    "def printer(*args):\n",
    "    print(args)\n",
    "    print(type(args))\n",
    "    print()\n",
    "    for i in args:\n",
    "        print(i)"
   ]
  },
  {
   "cell_type": "code",
   "execution_count": 29,
   "id": "dbefb181",
   "metadata": {},
   "outputs": [
    {
     "name": "stdout",
     "output_type": "stream",
     "text": [
      "(1, 'text', {'key': 'value'})\n",
      "<class 'tuple'>\n",
      "\n",
      "1\n",
      "text\n",
      "{'key': 'value'}\n"
     ]
    }
   ],
   "source": [
    "printer(1, 'text', {'key': 'value'})"
   ]
  },
  {
   "cell_type": "code",
   "execution_count": 31,
   "id": "197c9495",
   "metadata": {},
   "outputs": [
    {
     "name": "stdout",
     "output_type": "stream",
     "text": [
      "({'John', 'Nick', 'Bill'},)\n",
      "<class 'tuple'>\n",
      "\n",
      "{'John', 'Nick', 'Bill'}\n"
     ]
    }
   ],
   "source": [
    "names = {'John', 'Nick', 'Bill'}\n",
    "printer(names)"
   ]
  },
  {
   "cell_type": "code",
   "execution_count": 32,
   "id": "37933eb1",
   "metadata": {},
   "outputs": [
    {
     "name": "stdout",
     "output_type": "stream",
     "text": [
      "('John', 'Nick', 'Bill')\n",
      "<class 'tuple'>\n",
      "\n",
      "John\n",
      "Nick\n",
      "Bill\n"
     ]
    }
   ],
   "source": [
    "printer(*names) # * - распаковывает кортеж"
   ]
  },
  {
   "cell_type": "markdown",
   "id": "8d64e5cd",
   "metadata": {},
   "source": [
    "Аргумент **kwargs — сокращение от «keyword arguments» (именованные аргументы). Аргумент *kwargs из себя представляет словарь, который может содержать любое количество элементов"
   ]
  },
  {
   "cell_type": "code",
   "execution_count": 33,
   "id": "cf7387fd",
   "metadata": {},
   "outputs": [],
   "source": [
    "def printer(**kwargs):\n",
    "    print(type(kwargs))\n",
    "    print()\n",
    "    for key, value in kwargs.items():\n",
    "        print(f'{key} - {value}')"
   ]
  },
  {
   "cell_type": "code",
   "execution_count": 39,
   "id": "1ee67056",
   "metadata": {},
   "outputs": [
    {
     "name": "stdout",
     "output_type": "stream",
     "text": [
      "<class 'dict'>\n",
      "\n",
      "a - 10\n",
      "b - 20\n",
      "с - [1, '20']\n"
     ]
    }
   ],
   "source": [
    "printer(a=10, b='20', с=[1, '20'])"
   ]
  },
  {
   "cell_type": "code",
   "execution_count": 38,
   "id": "8bc9b484",
   "metadata": {},
   "outputs": [],
   "source": [
    "def say_hi(**kwargs):\n",
    "    greeting = kwargs.get('greeting', 'Hello')\n",
    "    name = kwargs.get('name', 'World')\n",
    "    return f'{greeting}, {name}'"
   ]
  },
  {
   "cell_type": "code",
   "execution_count": 40,
   "id": "725412e4",
   "metadata": {},
   "outputs": [
    {
     "data": {
      "text/plain": [
       "'Hello, World'"
      ]
     },
     "execution_count": 40,
     "metadata": {},
     "output_type": "execute_result"
    }
   ],
   "source": [
    "say_hi()"
   ]
  },
  {
   "cell_type": "code",
   "execution_count": 41,
   "id": "4272b8d5",
   "metadata": {},
   "outputs": [
    {
     "data": {
      "text/plain": [
       "'Hey, John'"
      ]
     },
     "execution_count": 41,
     "metadata": {},
     "output_type": "execute_result"
    }
   ],
   "source": [
    "say_hi(greeting='Hey', name='John')"
   ]
  },
  {
   "cell_type": "code",
   "execution_count": 42,
   "id": "74428ab3",
   "metadata": {},
   "outputs": [
    {
     "data": {
      "text/plain": [
       "'Hey, John'"
      ]
     },
     "execution_count": 42,
     "metadata": {},
     "output_type": "execute_result"
    }
   ],
   "source": [
    "say_hi(greeting='Hey', name='John', extra=5)"
   ]
  },
  {
   "cell_type": "code",
   "execution_count": 45,
   "id": "ee8c1192",
   "metadata": {},
   "outputs": [],
   "source": [
    "data = {'greeting': 'Hey',\n",
    "       'name': 'John',\n",
    "       'extra': 5}"
   ]
  },
  {
   "cell_type": "code",
   "execution_count": 47,
   "id": "c970a239",
   "metadata": {},
   "outputs": [
    {
     "data": {
      "text/plain": [
       "'Hey, John'"
      ]
     },
     "execution_count": 47,
     "metadata": {},
     "output_type": "execute_result"
    }
   ],
   "source": [
    "say_hi(**data)"
   ]
  },
  {
   "cell_type": "markdown",
   "id": "54bab6a1",
   "metadata": {},
   "source": [
    "Аннотирование типов"
   ]
  },
  {
   "cell_type": "code",
   "execution_count": 50,
   "id": "c1dfdd09",
   "metadata": {},
   "outputs": [],
   "source": [
    "def calc_sum(a: int, b: int) -> int:\n",
    "    return a+b"
   ]
  },
  {
   "cell_type": "code",
   "execution_count": 51,
   "id": "5107137c",
   "metadata": {},
   "outputs": [
    {
     "data": {
      "text/plain": [
       "4"
      ]
     },
     "execution_count": 51,
     "metadata": {},
     "output_type": "execute_result"
    }
   ],
   "source": [
    "calc_sum(2, 2)"
   ]
  },
  {
   "cell_type": "code",
   "execution_count": 53,
   "id": "fa43ba33",
   "metadata": {},
   "outputs": [
    {
     "data": {
      "text/plain": [
       "'22'"
      ]
     },
     "execution_count": 53,
     "metadata": {},
     "output_type": "execute_result"
    }
   ],
   "source": [
    "calc_sum('2', '2')"
   ]
  },
  {
   "cell_type": "code",
   "execution_count": 54,
   "id": "98cc14b4",
   "metadata": {},
   "outputs": [
    {
     "data": {
      "text/plain": [
       "[1, 2, 3, 4]"
      ]
     },
     "execution_count": 54,
     "metadata": {},
     "output_type": "execute_result"
    }
   ],
   "source": [
    "calc_sum([1, 2], [3, 4])"
   ]
  },
  {
   "cell_type": "markdown",
   "id": "f746cf77",
   "metadata": {},
   "source": [
    "# ГЕНЕРАТОРЫ"
   ]
  },
  {
   "cell_type": "markdown",
   "id": "b8e5885f",
   "metadata": {},
   "source": [
    "Генератор - это объект, который сразу при создании не вычисляет значения всех своих элементов. \n",
    "\n",
    "Генератор хранит в памяти:\n",
    "* последний вычисленный элемент\n",
    "* правило перехода к следующему\n",
    "* условие, при котором выполнение прерывается"
   ]
  },
  {
   "cell_type": "code",
   "execution_count": 58,
   "id": "e13d5f4d",
   "metadata": {},
   "outputs": [],
   "source": [
    "def my_range(start, end):\n",
    "    current = start\n",
    "    while current < end:\n",
    "        yield current\n",
    "        current += 1"
   ]
  },
  {
   "cell_type": "code",
   "execution_count": 60,
   "id": "ad6b9a0f",
   "metadata": {},
   "outputs": [
    {
     "data": {
      "text/plain": [
       "<generator object my_range at 0x000001DA6FAD4EB0>"
      ]
     },
     "execution_count": 60,
     "metadata": {},
     "output_type": "execute_result"
    }
   ],
   "source": [
    "ranger = my_range(0, 2)\n",
    "ranger"
   ]
  },
  {
   "cell_type": "code",
   "execution_count": 61,
   "id": "3b1a397b",
   "metadata": {},
   "outputs": [
    {
     "data": {
      "text/plain": [
       "0"
      ]
     },
     "execution_count": 61,
     "metadata": {},
     "output_type": "execute_result"
    }
   ],
   "source": [
    "next(ranger)"
   ]
  },
  {
   "cell_type": "code",
   "execution_count": 62,
   "id": "362317dd",
   "metadata": {},
   "outputs": [
    {
     "data": {
      "text/plain": [
       "1"
      ]
     },
     "execution_count": 62,
     "metadata": {},
     "output_type": "execute_result"
    }
   ],
   "source": [
    "next(ranger)"
   ]
  },
  {
   "cell_type": "code",
   "execution_count": 63,
   "id": "066f0e9e",
   "metadata": {},
   "outputs": [
    {
     "ename": "StopIteration",
     "evalue": "",
     "output_type": "error",
     "traceback": [
      "\u001b[1;31m---------------------------------------------------------------------------\u001b[0m",
      "\u001b[1;31mStopIteration\u001b[0m                             Traceback (most recent call last)",
      "\u001b[1;32m~\\AppData\\Local\\Temp/ipykernel_13444/1267007448.py\u001b[0m in \u001b[0;36m<module>\u001b[1;34m\u001b[0m\n\u001b[1;32m----> 1\u001b[1;33m \u001b[0mnext\u001b[0m\u001b[1;33m(\u001b[0m\u001b[0mranger\u001b[0m\u001b[1;33m)\u001b[0m\u001b[1;33m\u001b[0m\u001b[1;33m\u001b[0m\u001b[0m\n\u001b[0m",
      "\u001b[1;31mStopIteration\u001b[0m: "
     ]
    }
   ],
   "source": [
    "next(ranger)"
   ]
  },
  {
   "cell_type": "code",
   "execution_count": 64,
   "id": "74421f55",
   "metadata": {},
   "outputs": [
    {
     "name": "stdout",
     "output_type": "stream",
     "text": [
      "2\n",
      "3\n",
      "4\n"
     ]
    }
   ],
   "source": [
    "gen_a = my_range(2, 5)\n",
    "for i in gen_a:\n",
    "    print(i)"
   ]
  },
  {
   "cell_type": "code",
   "execution_count": 65,
   "id": "77961876",
   "metadata": {},
   "outputs": [],
   "source": [
    "for i in gen_a:\n",
    "    print(i)"
   ]
  },
  {
   "cell_type": "markdown",
   "id": "6f728297",
   "metadata": {},
   "source": [
    "# list comprehension"
   ]
  },
  {
   "cell_type": "code",
   "execution_count": 67,
   "id": "e74bac41",
   "metadata": {},
   "outputs": [
    {
     "data": {
      "text/plain": [
       "[0, 1, 4, 9, 16]"
      ]
     },
     "execution_count": 67,
     "metadata": {},
     "output_type": "execute_result"
    }
   ],
   "source": [
    "squares = []\n",
    "for i in range(5):\n",
    "    squares.append(i*i)\n",
    "squares"
   ]
  },
  {
   "cell_type": "code",
   "execution_count": 68,
   "id": "2602a06a",
   "metadata": {},
   "outputs": [
    {
     "data": {
      "text/plain": [
       "[0, 1, 4, 9, 16]"
      ]
     },
     "execution_count": 68,
     "metadata": {},
     "output_type": "execute_result"
    }
   ],
   "source": [
    "squares = [i*i for i in range(5)]\n",
    "squares"
   ]
  },
  {
   "cell_type": "code",
   "execution_count": 69,
   "id": "bb5f13b6",
   "metadata": {},
   "outputs": [
    {
     "data": {
      "text/plain": [
       "[0, 2, 4, 6, 8]"
      ]
     },
     "execution_count": 69,
     "metadata": {},
     "output_type": "execute_result"
    }
   ],
   "source": [
    "even_nums = []\n",
    "for i in range(10):\n",
    "    if i%2 == 0:\n",
    "        even_nums.append(i)\n",
    "even_nums"
   ]
  },
  {
   "cell_type": "code",
   "execution_count": 71,
   "id": "4fd6a4d7",
   "metadata": {},
   "outputs": [
    {
     "data": {
      "text/plain": [
       "[0, 2, 4, 6, 8]"
      ]
     },
     "execution_count": 71,
     "metadata": {},
     "output_type": "execute_result"
    }
   ],
   "source": [
    "even_nums = [i for i in range(10) if i%2 == 0]\n",
    "even_nums"
   ]
  },
  {
   "cell_type": "code",
   "execution_count": 77,
   "id": "fb03c2e9",
   "metadata": {},
   "outputs": [
    {
     "ename": "SyntaxError",
     "evalue": "invalid syntax (Temp/ipykernel_13444/179455198.py, line 1)",
     "output_type": "error",
     "traceback": [
      "\u001b[1;36m  File \u001b[1;32m\"C:\\Users\\tatia\\AppData\\Local\\Temp/ipykernel_13444/179455198.py\"\u001b[1;36m, line \u001b[1;32m1\u001b[0m\n\u001b[1;33m    even_nums = [i if i%2 == 0 for i in range(10)]\u001b[0m\n\u001b[1;37m                               ^\u001b[0m\n\u001b[1;31mSyntaxError\u001b[0m\u001b[1;31m:\u001b[0m invalid syntax\n"
     ]
    }
   ],
   "source": [
    "even_nums = [i if i%2 == 0 for i in range(10)]\n",
    "even_nums"
   ]
  },
  {
   "cell_type": "code",
   "execution_count": 73,
   "id": "463f3f02",
   "metadata": {},
   "outputs": [
    {
     "data": {
      "text/plain": [
       "[125, 0, 103, 38, 0, 116]"
      ]
     },
     "execution_count": 73,
     "metadata": {},
     "output_type": "execute_result"
    }
   ],
   "source": [
    "orig_price = [125, -9, 103, 38, -5, 116]\n",
    "\n",
    "prices = []\n",
    "for i in orig_price:\n",
    "    if i > 0:\n",
    "        prices.append(i)\n",
    "    else:\n",
    "        prices.append(0)\n",
    "        \n",
    "prices"
   ]
  },
  {
   "cell_type": "code",
   "execution_count": 78,
   "id": "142a2e84",
   "metadata": {},
   "outputs": [
    {
     "data": {
      "text/plain": [
       "[125, 0, 103, 38, 0, 116]"
      ]
     },
     "execution_count": 78,
     "metadata": {},
     "output_type": "execute_result"
    }
   ],
   "source": [
    "prices = [i if i>0 else 0 for i in orig_price]\n",
    "prices"
   ]
  },
  {
   "cell_type": "code",
   "execution_count": 79,
   "id": "34294375",
   "metadata": {},
   "outputs": [],
   "source": [
    "def get_price(price):\n",
    "    return price if price>0 else 0"
   ]
  },
  {
   "cell_type": "code",
   "execution_count": 82,
   "id": "90920cd0",
   "metadata": {},
   "outputs": [
    {
     "data": {
      "text/plain": [
       "[125, 0, 103, 38, 0, 116]"
      ]
     },
     "execution_count": 82,
     "metadata": {},
     "output_type": "execute_result"
    }
   ],
   "source": [
    "prices = [get_price(i) for i in orig_price]\n",
    "prices"
   ]
  },
  {
   "cell_type": "markdown",
   "id": "f7694783",
   "metadata": {},
   "source": [
    "# set comprehension"
   ]
  },
  {
   "cell_type": "code",
   "execution_count": 86,
   "id": "c3ee941e",
   "metadata": {},
   "outputs": [
    {
     "data": {
      "text/plain": [
       "{'black', 'pink', 'red', 'white'}"
      ]
     },
     "execution_count": 86,
     "metadata": {},
     "output_type": "execute_result"
    }
   ],
   "source": [
    "numbers = ['black', 'white', 'black', 'pink', 'red', 'pink']\n",
    "{i for i in numbers}"
   ]
  },
  {
   "cell_type": "markdown",
   "id": "58ab84fc",
   "metadata": {},
   "source": [
    "# dict comprehension"
   ]
  },
  {
   "cell_type": "code",
   "execution_count": 87,
   "id": "01fd6fd5",
   "metadata": {},
   "outputs": [
    {
     "data": {
      "text/plain": [
       "{0: 0, 1: 1, 2: 4, 3: 9, 4: 16}"
      ]
     },
     "execution_count": 87,
     "metadata": {},
     "output_type": "execute_result"
    }
   ],
   "source": [
    "squares_dict = {i: i*i for i in range(5)}\n",
    "squares_dict"
   ]
  },
  {
   "cell_type": "markdown",
   "id": "27cc7eaf",
   "metadata": {},
   "source": [
    "## Сравнение скорости работы"
   ]
  },
  {
   "cell_type": "code",
   "execution_count": 95,
   "id": "e74dd485",
   "metadata": {},
   "outputs": [
    {
     "name": "stdout",
     "output_type": "stream",
     "text": [
      "Wall time: 15.4 s\n"
     ]
    }
   ],
   "source": [
    "%%time\n",
    "even_nums = []\n",
    "for i in range(100_000_000):\n",
    "    if i%2 == 0:\n",
    "        even_nums.append(i)"
   ]
  },
  {
   "cell_type": "code",
   "execution_count": 96,
   "id": "f18af458",
   "metadata": {},
   "outputs": [
    {
     "name": "stdout",
     "output_type": "stream",
     "text": [
      "Wall time: 12.3 s\n"
     ]
    }
   ],
   "source": [
    "%%time\n",
    "even_nums = [i for i in range(100_000_000) if i%2 == 0]"
   ]
  },
  {
   "cell_type": "markdown",
   "id": "095920ab",
   "metadata": {},
   "source": [
    "# СЕМИНАР #"
   ]
  },
  {
   "cell_type": "markdown",
   "id": "e5da435e",
   "metadata": {},
   "source": [
    "## Задание 1.\n",
    "### 1.1 Соедините два словаря в один\n",
    "```\n",
    "dict1 = {'One': 1, 'Two': 2, 'Three': 3}\n",
    "dict2 = {'Four': 4, 'Five': 5, 'Six': 6}\n",
    "```"
   ]
  },
  {
   "cell_type": "code",
   "execution_count": 2,
   "id": "c607500b",
   "metadata": {},
   "outputs": [],
   "source": [
    "dict1 = {'One': 1, 'Two': 2, 'Three': 3}\n",
    "dict2 = {'Four': 4, 'Five': 5, 'Six': 6}"
   ]
  },
  {
   "cell_type": "code",
   "execution_count": 9,
   "id": "e6edc7f9",
   "metadata": {},
   "outputs": [
    {
     "data": {
      "text/plain": [
       "{'One': 1, 'Two': 2, 'Three': 3, 'Four': 4, 'Five': 5, 'Six': 6}"
      ]
     },
     "execution_count": 9,
     "metadata": {},
     "output_type": "execute_result"
    }
   ],
   "source": [
    "dict1.update(dict2) \n",
    "dict1"
   ]
  },
  {
   "cell_type": "markdown",
   "id": "42c4f344",
   "metadata": {},
   "source": [
    "### 1.2 Напишите функцию, которая на вход принимает два словаря и возвращает один объединенный словарь\n",
    "Используйте аннотирование типов"
   ]
  },
  {
   "cell_type": "code",
   "execution_count": 25,
   "id": "395f9afc",
   "metadata": {},
   "outputs": [
    {
     "name": "stdout",
     "output_type": "stream",
     "text": [
      "{'One': 1, 'Two': 2, 'Three': 3, 'Four': 4, 'Five': 5, 'Six': 6}\n"
     ]
    }
   ],
   "source": [
    "dict1 = {'One': 1, 'Two': 2, 'Three': 3}\n",
    "dict2 = {'Four': 4, 'Five': 5, 'Six': 6}\n",
    "\n",
    "def new_dict(dict1: dict, dict2: dict) -> dict:\n",
    "    new_dict = dict1.copy()\n",
    "    new_dict.update(dict2)\n",
    "    return new_dict\n",
    "\n",
    "print(new_dict(dict1, dict2))"
   ]
  },
  {
   "cell_type": "markdown",
   "id": "7de4f174",
   "metadata": {},
   "source": [
    "## Задание 2."
   ]
  },
  {
   "cell_type": "markdown",
   "id": "a643eed6",
   "metadata": {},
   "source": [
    "Напишите функцию, которая из двух списков, делает один словарь, где элементы из первого списка - ключи, а элементы из второго списка - значения\n",
    "```\n",
    "keys = ['One', 'Two', 'Three']\n",
    "values = [1, 2, 3]\n",
    "```\n",
    "\n",
    "Используйте аннотирование типов"
   ]
  },
  {
   "cell_type": "markdown",
   "id": "de777e44",
   "metadata": {},
   "source": [
    "### 2.1 Используя цикл for"
   ]
  },
  {
   "cell_type": "code",
   "execution_count": 34,
   "id": "764e1947",
   "metadata": {},
   "outputs": [
    {
     "data": {
      "text/plain": [
       "{'One': 1, 'Two': 2, 'Three': 3}"
      ]
     },
     "execution_count": 34,
     "metadata": {},
     "output_type": "execute_result"
    }
   ],
   "source": [
    "keys = ['One', 'Two', 'Three']\n",
    "values = [1, 2, 3]\n",
    "\n",
    "def new_dict(k, v):\n",
    "    new_dict = {}\n",
    "    for i in range(len(k)):\n",
    "        new_dict.update({k[i]: v[i]})\n",
    "    return new_dict\n",
    "\n",
    "new_dict(keys, values)        "
   ]
  },
  {
   "cell_type": "markdown",
   "id": "d414a253",
   "metadata": {},
   "source": [
    "### 2.2 Используя dict comprehensions"
   ]
  },
  {
   "cell_type": "code",
   "execution_count": 44,
   "id": "6495dc8e",
   "metadata": {},
   "outputs": [
    {
     "data": {
      "text/plain": [
       "{'One': 1, 'Two': 2, 'Three': 3}"
      ]
     },
     "execution_count": 44,
     "metadata": {},
     "output_type": "execute_result"
    }
   ],
   "source": [
    "def new_dict(k: list, v: list) -> dict:\n",
    "    return {k[i]: v[i] for i in range(len(k))}\n",
    "\n",
    "new_dict(keys, values)"
   ]
  },
  {
   "cell_type": "markdown",
   "id": "989052d0",
   "metadata": {},
   "source": [
    "## Задание 3\n",
    "Извлеките только два ключа `name` и `age` из представленного словаря\n",
    "```python\n",
    "client_dict = {\n",
    "    \"name\": \"John\",\n",
    "    \"age\": 25,\n",
    "    \"salary\": 5000,\n",
    "    \"city\": \"Moscow\"\n",
    "}\n",
    "```"
   ]
  },
  {
   "cell_type": "markdown",
   "id": "f4a9b779",
   "metadata": {},
   "source": [
    "### 3.1 Напишите функцию с циклом for\n",
    "Функция на вход принимает:\n",
    "- исходный словарь\n",
    "- ключи, которые нужно извлечь (аргумент по умолчанию)\n",
    "\n",
    "На выходе словарь с нужными ключами\n",
    "\n",
    "Используйте аннотирование типов"
   ]
  },
  {
   "cell_type": "code",
   "execution_count": 52,
   "id": "0c597da6",
   "metadata": {},
   "outputs": [],
   "source": [
    "client_dict = {\n",
    "    \"name\": \"John\",\n",
    "    \"age\": 25,\n",
    "    \"salary\": 5000,\n",
    "    \"city\": \"Moscow\"\n",
    "}"
   ]
  },
  {
   "cell_type": "code",
   "execution_count": 54,
   "id": "dc7a7808",
   "metadata": {},
   "outputs": [
    {
     "data": {
      "text/plain": [
       "{'name': 'John', 'age': 25}"
      ]
     },
     "execution_count": 54,
     "metadata": {},
     "output_type": "execute_result"
    }
   ],
   "source": [
    "def get_keys(dict1: dict, keys: list = ['name', 'age']) -> dict:\n",
    "    new_dict = {}\n",
    "    for k in keys:\n",
    "        new_dict.update({k: dict1[k]})\n",
    "    return new_dict\n",
    "\n",
    "get_keys(client_dict)"
   ]
  },
  {
   "cell_type": "markdown",
   "id": "1c48c015",
   "metadata": {},
   "source": [
    "### 3.2 Используя dict comprehensions"
   ]
  },
  {
   "cell_type": "code",
   "execution_count": 57,
   "id": "ce0dff75",
   "metadata": {},
   "outputs": [
    {
     "data": {
      "text/plain": [
       "{'name': 'John', 'age': 25}"
      ]
     },
     "execution_count": 57,
     "metadata": {},
     "output_type": "execute_result"
    }
   ],
   "source": [
    "def get_keys(dict1: dict, keys: list=['name', 'age']) -> dict:\n",
    "    return {i: dict1[i] for i in keys}\n",
    "\n",
    "get_keys(client_dict)"
   ]
  },
  {
   "cell_type": "markdown",
   "id": "28dd0f85",
   "metadata": {},
   "source": [
    "## Задание 4."
   ]
  },
  {
   "cell_type": "markdown",
   "id": "134c470c",
   "metadata": {},
   "source": [
    "### 4.1 Сгенерируйте случайные целые числа от 0 до 100 в количестве 5 штук с помощью модуля random\n",
    "\n",
    "Зафиксируйте псевдогенерацию, чтобы сгенерированные значения всегда были одинаковые\n",
    "\n",
    "Используйте list comprehensions"
   ]
  },
  {
   "cell_type": "code",
   "execution_count": 88,
   "id": "4842cb67",
   "metadata": {},
   "outputs": [
    {
     "data": {
      "text/plain": [
       "[59, 78, 47, 34, 17]"
      ]
     },
     "execution_count": 88,
     "metadata": {},
     "output_type": "execute_result"
    }
   ],
   "source": [
    "random.seed(9)\n",
    "\n",
    "data = [random.randint(0, 100) for i in range(5)]\n",
    "\n",
    "data"
   ]
  }
 ],
 "metadata": {
  "kernelspec": {
   "display_name": "Python 3 (ipykernel)",
   "language": "python",
   "name": "python3"
  },
  "language_info": {
   "codemirror_mode": {
    "name": "ipython",
    "version": 3
   },
   "file_extension": ".py",
   "mimetype": "text/x-python",
   "name": "python",
   "nbconvert_exporter": "python",
   "pygments_lexer": "ipython3",
   "version": "3.9.7"
  }
 },
 "nbformat": 4,
 "nbformat_minor": 5
}
